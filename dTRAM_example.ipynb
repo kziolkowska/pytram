{
 "metadata": {
  "name": "",
  "signature": "sha256:7ce14e5ea5fc4087113f15c5b418c1d6b6992c494d02dcb8227dd2a50281538a"
 },
 "nbformat": 3,
 "nbformat_minor": 0,
 "worksheets": [
  {
   "cells": [
    {
     "cell_type": "heading",
     "level": 1,
     "metadata": {},
     "source": [
      "How to use the dTRAM estimator"
     ]
    },
    {
     "cell_type": "markdown",
     "metadata": {},
     "source": [
      "In this short tutorial, we will learn use the dTRAM method to estimate stationary distributions and transition matrices from multi-ensemble simulations.\n",
      "\n",
      "We start by importing the dTRAM's API function from the pytram package."
     ]
    },
    {
     "cell_type": "code",
     "collapsed": false,
     "input": [
      "%pylab inline\n",
      "from pytram import dtram # this is the dTRAM API function"
     ],
     "language": "python",
     "metadata": {},
     "outputs": []
    },
    {
     "cell_type": "heading",
     "level": 2,
     "metadata": {},
     "source": [
      "First example: three discrete states with piecewise constant potentials"
     ]
    },
    {
     "cell_type": "markdown",
     "metadata": {},
     "source": [
      "The first example uses a system with three discrete states (L,C,R), where each state corresponds to a certain energy. We allow transitions between states L and C and between C and R. Furthermore, the state C corresponds to a higher potential energy than states L and R. Thus, state C acts as a transition state between the metastable states L and R.\n",
      "\n",
      "We perform two unbiased Metropolis Monte Carlo simulations starting in each metastable state and an additional biased simulation starting from the transition state. The bias raises the energies of the metastable states and allows for free diffusion between L and C, and C and R."
     ]
    },
    {
     "cell_type": "code",
     "collapsed": false,
     "input": [
      "# piecewise contant potentials\n",
      "u = np.array( [ 4.0, 8.0, 0.0 ], dtype=np.float64 )\n",
      "# corresponding unbiased transition matrix at kT=1.0\n",
      "Tu = np.zeros( shape=(3,3), dtype=np.float64 )\n",
      "Tu[0,1] = 0.5*np.exp( -(u[1]-u[0]) )\n",
      "Tu[0,0] = 1.0 - Tu[0,1]\n",
      "Tu[1,0] = 0.5\n",
      "Tu[1,2] = 0.5\n",
      "Tu[2,1] = 0.5*np.exp( -(u[1]-u[2]) )\n",
      "Tu[2,2] = 1.0 - Tu[2,1]\n",
      "# bias energies\n",
      "b = np.array( [ 4.0, 0.0, 8.0 ], dtype=np.float64 )\n",
      "# corresponding biased transition matrix at kT=1.0\n",
      "Tb = np.zeros( shape=(3,3), dtype=np.float64 )\n",
      "Tb[0,1] = 0.5\n",
      "Tb[0,0] = 0.5\n",
      "Tb[1,0] = 0.5\n",
      "Tb[1,2] = 0.5\n",
      "Tb[2,1] = 0.5\n",
      "Tb[2,2] = 0.5\n",
      "# throw an index dice according to the distribution T_i\n",
      "def n_dice( T_i ):\n",
      "    rnd = np.random.rand()\n",
      "    cdf = np.cumsum( T_i )\n",
      "    ind = ( cdf > rnd )\n",
      "    idx = np.where( ind == True )\n",
      "    return np.min( idx )\n",
      "# get a markov chain according to a transition matrix T, staring from state i with length L\n",
      "def m_chain( T, i, L ):\n",
      "    dtraj = np.zeros( shape=(L,), dtype=np.int32 )\n",
      "    dtraj[0] = i\n",
      "    for l in xrange( 1, L ):\n",
      "        dtraj[l] = n_dice( T[dtraj[l-1],:] )\n",
      "    return dtraj\n",
      "# run the simulations of length L\n",
      "L = 10000\n",
      "UL = m_chain( Tu, 0, L )\n",
      "UR = m_chain( Tu, 2, L )\n",
      "BC = m_chain( Tb, 1, L )"
     ],
     "language": "python",
     "metadata": {},
     "outputs": []
    },
    {
     "cell_type": "markdown",
     "metadata": {},
     "source": [
      "In the next step, we prepare our input data for dTRAM.\n",
      "\n",
      "1) We compute the transition counts for each thermodynamic state (unbiased or biased) and store them in the three-dimensional count tensor C_K_ij, where K denotes the thermodynamic state and i,j refer to the discrete states.\n",
      "\n",
      "2) We compute the conversion factors between the thermodynamic ensembles and discrete states from the bias."
     ]
    },
    {
     "cell_type": "code",
     "collapsed": false,
     "input": [
      "# count function\n",
      "def count( dtraj, lag=1 ):\n",
      "    c = np.zeros( shape=(3,3), dtype=np.intc )\n",
      "    d = dtraj[::lag]\n",
      "    for l in xrange( 1, d.shape[0] ):\n",
      "        c[ d[l-1], d[l] ] += 1\n",
      "    return c\n",
      "# compute C_K_ij\n",
      "C_K_ij = np.zeros( shape=(2,3,3), dtype=np.intc )\n",
      "C_K_ij[0,:,:] += count( UL )\n",
      "C_K_ij[0,:,:] += count( UR )\n",
      "C_K_ij[1,:,:] += count( BC )\n",
      "# compute conversion factors\n",
      "gamma_K_j = np.ones( shape=(2,3), dtype=np.float64 )\n",
      "gamma_K_j[1,:] = np.exp( -b )"
     ],
     "language": "python",
     "metadata": {},
     "outputs": []
    },
    {
     "cell_type": "markdown",
     "metadata": {},
     "source": [
      "Now, we call the dTRAM API function which estimates the unbiased staionary probabilities of the three states L, C, and R."
     ]
    },
    {
     "cell_type": "code",
     "collapsed": false,
     "input": [
      "dtram_obj = dtram( C_K_ij, gamma_K_j, maxiter=100000, ftol=1.0E-15, verbose=False )"
     ],
     "language": "python",
     "metadata": {},
     "outputs": []
    },
    {
     "cell_type": "markdown",
     "metadata": {},
     "source": [
      "If we have not made any mistakes, the dtram_obj should now carry the stationary distribution, which we will compare against the exact solution."
     ]
    },
    {
     "cell_type": "code",
     "collapsed": false,
     "input": [
      "pi_exact = np.exp( -u )\n",
      "pi_exact /= pi_exact.sum()\n",
      "print \"pi_estimated               :\", dtram_obj.pi_i\n",
      "print \"pi_exact                   :\", pi_exact\n",
      "print \"pi_estimated normalization :\", dtram_obj.pi_i.sum()\n",
      "print \"||pi_estimated - pi_exact||:\", np.linalg.norm( dtram_obj.pi_i - pi_exact )"
     ],
     "language": "python",
     "metadata": {},
     "outputs": []
    },
    {
     "cell_type": "markdown",
     "metadata": {},
     "source": [
      "Furthermore, we can also estimate a transition matrix for every thermodynamic state."
     ]
    },
    {
     "cell_type": "code",
     "collapsed": false,
     "input": [
      "T_estimated = dtram_obj.estimate_transition_matrix()"
     ],
     "language": "python",
     "metadata": {},
     "outputs": []
    },
    {
     "cell_type": "markdown",
     "metadata": {},
     "source": [
      "Finally, we compare the estimated transition matrices against the exact ones."
     ]
    },
    {
     "cell_type": "code",
     "collapsed": false,
     "input": [
      "print \"T_estimated_unbiased - Tu:\"\n",
      "print (T_estimated[0,:,:] - Tu)\n",
      "print \"||T_estimated_unbiased - Tu||:\", np.linalg.norm( T_estimated[0,:,:] - Tu )\n",
      "print \"T_estimated_biased - Tb:\"\n",
      "print (T_estimated[1,:,:] - Tb)\n",
      "print \"||T_estimated_biased - Tb||:\", np.linalg.norm( T_estimated[1,:,:] - Tb )"
     ],
     "language": "python",
     "metadata": {},
     "outputs": []
    },
    {
     "cell_type": "code",
     "collapsed": false,
     "input": [],
     "language": "python",
     "metadata": {},
     "outputs": []
    }
   ],
   "metadata": {}
  }
 ]
}