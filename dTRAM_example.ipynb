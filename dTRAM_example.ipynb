{
 "metadata": {
  "name": "",
  "signature": "sha256:c98efda3f58b8a280bd9927a9ae036b5a6a2aa2a6b87fc96063517630d2cdaad"
 },
 "nbformat": 3,
 "nbformat_minor": 0,
 "worksheets": [
  {
   "cells": [
    {
     "cell_type": "heading",
     "level": 1,
     "metadata": {},
     "source": [
      "How to use the dTRAM estimator"
     ]
    },
    {
     "cell_type": "markdown",
     "metadata": {},
     "source": [
      "In this short tutorial, we will learn use the dTRAM method to estimate stationary distributions and transition matrices from multi-ensemble simulations.\n",
      "\n",
      "We start by importing the dTRAM's API function from the pytram package."
     ]
    },
    {
     "cell_type": "code",
     "collapsed": false,
     "input": [
      "%pylab inline\n",
      "from pytram import dtram # this is the dTRAM API function"
     ],
     "language": "python",
     "metadata": {},
     "outputs": []
    },
    {
     "cell_type": "heading",
     "level": 2,
     "metadata": {},
     "source": [
      "First example: three discrete states with piecewise constant potentials"
     ]
    },
    {
     "cell_type": "markdown",
     "metadata": {},
     "source": [
      "The first example uses a system with three discrete states (L,C,R), where each state corresponds to a certain energy. We allow transitions between states L and C and between C and R. Furthermore, the state C corresponds to a higher potential energy than states L and R. Thus, state C acts as a transition state between the metastable states L and R.\n",
      "\n",
      "We perform two unbiased Metropolis Monte Carlo simulations starting in each metastable state and an additional biased simulation starting from the transition state. The bias raises the energies of the metastable states and allows for free diffusion between L and C, and C and R."
     ]
    },
    {
     "cell_type": "code",
     "collapsed": false,
     "input": [
      "# piecewise contant potentials\n",
      "u = np.array( [ 4.0, 8.0, 0.0 ], dtype=np.float64 )\n",
      "# corresponding unbiased transition matrix at kT=1.0\n",
      "Tu = np.zeros( shape=(3,3), dtype=np.float64 )\n",
      "Tu[0,1] = 0.5*np.exp( -(u[1]-u[0]) )\n",
      "Tu[0,0] = 1.0 - Tu[0,1]\n",
      "Tu[1,0] = 0.5\n",
      "Tu[1,2] = 0.5\n",
      "Tu[2,1] = 0.5*np.exp( -(u[1]-u[2]) )\n",
      "Tu[2,2] = 1.0 - Tu[2,1]\n",
      "# bias energies\n",
      "b = np.array( [ 4.0, 0.0, 8.0 ], dtype=np.float64 )\n",
      "# corresponding biased transition matrix at kT=1.0\n",
      "Tb = np.zeros( shape=(3,3), dtype=np.float64 )\n",
      "Tb[0,1] = 0.5\n",
      "Tb[0,0] = 0.5\n",
      "Tb[1,0] = 0.5\n",
      "Tb[1,2] = 0.5\n",
      "Tb[2,1] = 0.5\n",
      "Tb[2,2] = 0.5\n",
      "# throw an index dice according to the distribution T_i\n",
      "def n_dice( T_i ):\n",
      "    rnd = np.random.rand()\n",
      "    cdf = np.cumsum( T_i )\n",
      "    ind = ( cdf > rnd )\n",
      "    idx = np.where( ind == True )\n",
      "    return np.min( idx )\n",
      "# get a markov chain according to a transition matrix T, staring from state i with length L\n",
      "def m_chain( T, i, L ):\n",
      "    dtraj = np.zeros( shape=(L,), dtype=np.int32 )\n",
      "    dtraj[0] = i\n",
      "    for l in xrange( 1, L ):\n",
      "        dtraj[l] = n_dice( T[dtraj[l-1],:] )\n",
      "    return dtraj\n",
      "# run the simulations of length L\n",
      "L = 10000\n",
      "UL = m_chain( Tu, 0, L )\n",
      "UR = m_chain( Tu, 2, L )\n",
      "BC = m_chain( Tb, 1, L )"
     ],
     "language": "python",
     "metadata": {},
     "outputs": []
    },
    {
     "cell_type": "markdown",
     "metadata": {},
     "source": [
      "In the next step, we prepare our input data for dTRAM.\n",
      "\n",
      "1) We compute the transition counts for each thermodynamic state (unbiased or biased) and store them in the three-dimensional count tensor C_K_ij, where K denotes the thermodynamic state and i,j refer to the discrete states.\n",
      "\n",
      "2) We compute the conversion factors between the thermodynamic ensembles and discrete states from the bias."
     ]
    },
    {
     "cell_type": "code",
     "collapsed": false,
     "input": [
      "# count function\n",
      "def count( dtraj, lag=1 ):\n",
      "    c = np.zeros( shape=(3,3), dtype=np.intc )\n",
      "    d = dtraj[::lag]\n",
      "    for l in xrange( 1, d.shape[0] ):\n",
      "        c[ d[l-1], d[l] ] += 1\n",
      "    return c\n",
      "# compute C_K_ij\n",
      "C_K_ij = np.zeros( shape=(2,3,3), dtype=np.intc )\n",
      "C_K_ij[0,:,:] += count( UL )\n",
      "C_K_ij[0,:,:] += count( UR )\n",
      "C_K_ij[1,:,:] += count( BC )\n",
      "# compute conversion factors\n",
      "gamma_K_i = np.ones( shape=(2,3), dtype=np.float64 )\n",
      "gamma_K_i[1,:] = np.exp( -b )"
     ],
     "language": "python",
     "metadata": {},
     "outputs": []
    },
    {
     "cell_type": "markdown",
     "metadata": {},
     "source": [
      "Now, we call the dTRAM API function which estimates the unbiased staionary probabilities of the three states L, C, and R."
     ]
    },
    {
     "cell_type": "code",
     "collapsed": false,
     "input": [
      "dtram_obj = dtram( C_K_ij, gamma_K_i, maxiter=100000, ftol=1.0E-15, verbose=False )"
     ],
     "language": "python",
     "metadata": {},
     "outputs": []
    },
    {
     "cell_type": "markdown",
     "metadata": {},
     "source": [
      "If we have not made any mistakes, the dtram_obj should now carry the stationary distribution, which we will compare against the exact solution."
     ]
    },
    {
     "cell_type": "code",
     "collapsed": false,
     "input": [
      "pi_exact = np.exp( -u )\n",
      "pi_exact /= pi_exact.sum()\n",
      "print \"pi_estimated               :\", dtram_obj.pi_i\n",
      "print \"pi_exact                   :\", pi_exact\n",
      "print \"pi_estimated normalization :\", dtram_obj.pi_i.sum()\n",
      "print \"||pi_estimated - pi_exact||:\", np.linalg.norm( dtram_obj.pi_i - pi_exact )"
     ],
     "language": "python",
     "metadata": {},
     "outputs": []
    },
    {
     "cell_type": "markdown",
     "metadata": {},
     "source": [
      "Furthermore, we can also estimate a transition matrix for every thermodynamic state."
     ]
    },
    {
     "cell_type": "code",
     "collapsed": false,
     "input": [
      "T_estimated = dtram_obj.estimate_transition_matrix()"
     ],
     "language": "python",
     "metadata": {},
     "outputs": []
    },
    {
     "cell_type": "markdown",
     "metadata": {},
     "source": [
      "Finally, we compare the estimated transition matrices against the exact ones."
     ]
    },
    {
     "cell_type": "code",
     "collapsed": false,
     "input": [
      "print \"T_estimated_unbiased - Tu:\"\n",
      "print (T_estimated[0,:,:] - Tu)\n",
      "print \"||T_estimated_unbiased - Tu||:\", np.linalg.norm( T_estimated[0,:,:] - Tu )\n",
      "print \"T_estimated_biased - Tb:\"\n",
      "print (T_estimated[1,:,:] - Tb)\n",
      "print \"||T_estimated_biased - Tb||:\", np.linalg.norm( T_estimated[1,:,:] - Tb )"
     ],
     "language": "python",
     "metadata": {},
     "outputs": []
    },
    {
     "cell_type": "heading",
     "level": 2,
     "metadata": {},
     "source": [
      "Second example: symmetric double well potential"
     ]
    },
    {
     "cell_type": "markdown",
     "metadata": {},
     "source": [
      "The second example addresses a double well potential in one dimension, i.e., we have still two metastable states which are separated by a potential barrier, but we do not have piecewise constant potentials anymore.\n",
      "\n",
      "Again, we use the Metropolis Monte Carlo approach to generate trajectories, which have additional harmonic restraints centered at several points across the potential barrier to increase the number of transition events. This is called the umbrella sampling approach."
     ]
    },
    {
     "cell_type": "code",
     "collapsed": false,
     "input": [
      "# harmonic bias potential\n",
      "def B( x, xk ):\n",
      "    if None == xk:\n",
      "        return 0.0\n",
      "    return 4.0*( x - xk )**2\n",
      "# double well potential (with otiopnal bias)\n",
      "def U( x, xk=None ):\n",
      "    return 0.25*x**4 - 5.0*x**2 - 9.9874 + B( x, xk )\n",
      "# Metropolis Monte Carlo\n",
      "def mmc( x0, L, xk=None ):\n",
      "    T = [x0]\n",
      "    E = U( x0, xk )\n",
      "    for t in xrange( L ):\n",
      "        x = T[-1] + 0.4*( np.random.rand() - 0.5 )\n",
      "        e = U( x, xk )\n",
      "        accept = False\n",
      "        if e < E:\n",
      "            accept = True\n",
      "        elif np.random.rand() < np.exp( -( e - E ) ):\n",
      "            accept = True\n",
      "        if accept:\n",
      "            T.append( x )\n",
      "            E = e\n",
      "        else:\n",
      "            T.append( T[-1] )\n",
      "    return np.array( T, dtype=np.float64 )\n",
      "# discretisation scheme\n",
      "def discretise( T, centers ):\n",
      "    D = np.zeros( shape=T.shape, dtype=np.int32 )\n",
      "    for i in xrange( T.shape[0] ):\n",
      "        if T[i] <= centers[0]:\n",
      "            D[i] = 0\n",
      "        elif T[i] >= centers[-1]:\n",
      "            D[i] = centers.shape[0]-1\n",
      "        else:\n",
      "            for j in xrange( centers.shape[0] ):\n",
      "                if T[i] < centers[j]+0.05:\n",
      "                    D[i] = j\n",
      "                    break\n",
      "    return D\n",
      "# generate trajectories\n",
      "NBINS = 101\n",
      "centers = np.linspace( -5.0, 5.0, NBINS )\n",
      "NBIAS = 11\n",
      "xk = np.linspace( -5.0, 5.0, NBIAS )\n",
      "L_traj = 10000\n",
      "traj = []\n",
      "dtraj = []\n",
      "for x in xk:\n",
      "    traj.append( mmc( x, L, xk=x ) )\n",
      "    dtraj.append( discretise( traj[-1], centers ) )\n",
      "# remove unvisited states\n",
      "N_K_j = np.zeros( shape=(NBIAS,NBINS), dtype=np.intc )\n",
      "for K in xrange( NBIAS ):\n",
      "    for j in xrange( NBINS ):\n",
      "        N_K_j[K,j] = ( dtraj[K] == j ).sum()\n",
      "N_j = N_K_j.sum( axis=0 )\n",
      "idx = ( N_j > 0 )\n",
      "NSTATES = idx.sum()\n",
      "for j in reversed( xrange( NBINS ) ):\n",
      "    if idx[j]:\n",
      "        continue\n",
      "    for K in xrange( NBIAS ):\n",
      "        idx2 = ( dtraj[K] > j )\n",
      "        dtraj[K][idx2] -= 1"
     ],
     "language": "python",
     "metadata": {},
     "outputs": []
    },
    {
     "cell_type": "markdown",
     "metadata": {},
     "source": [
      "Let us prepare our input data for dTRAM.\n",
      "\n",
      "1) We compute the transition counts for each thermodynamic state, i.e., the different harmonic restraints, and store them in the three-dimensional count tensor C_K_ij, where K denotes the thermodynamic state and i,j refer to the visited discrete states.\n",
      "\n",
      "2) We compute the conversion factors between the thermodynamic ensembles and discrete states from the harmonic bias potentials."
     ]
    },
    {
     "cell_type": "code",
     "collapsed": false,
     "input": [
      "# count function\n",
      "def count( dtraj, n, lag=1 ):\n",
      "    c = np.zeros( shape=(n,n), dtype=np.intc )\n",
      "    d = dtraj[::lag]\n",
      "    for l in xrange( 1, d.shape[0] ):\n",
      "        c[ d[l-1], d[l] ] += 1\n",
      "    return c\n",
      "# compute C_K_ij\n",
      "C_K_ij = np.zeros( shape=(NBIAS,NSTATES,NSTATES), dtype=np.intc )\n",
      "for K in xrange( NBIAS ):\n",
      "    C_K_ij[K,:,:] = count( dtraj[K], NSTATES )\n",
      "# compute the conversion factors\n",
      "gamma_K_i = np.zeros( shape=(xk.shape[0],NSTATES), dtype=np.float64 )\n",
      "for K in xrange( xk.shape[0] ):\n",
      "    gamma_K_i[K,:] = np.exp( -B( centers[idx], xk[K] ) )"
     ],
     "language": "python",
     "metadata": {},
     "outputs": []
    },
    {
     "cell_type": "markdown",
     "metadata": {},
     "source": [
      "We call the API function..."
     ]
    },
    {
     "cell_type": "code",
     "collapsed": false,
     "input": [
      "dtram_obj = dtram( C_K_ij, gamma_K_i, maxiter=100000, ftol=1.0E-4, verbose=False )"
     ],
     "language": "python",
     "metadata": {},
     "outputs": []
    },
    {
     "cell_type": "markdown",
     "metadata": {},
     "source": [
      "...and compare our estimation of the unbiased stationary probabilities via the corresponding free energies against the exactly known double well potential."
     ]
    },
    {
     "cell_type": "code",
     "collapsed": false,
     "input": [
      "nz = dtram_obj.pi_i.nonzero()\n",
      "cnz = (centers[idx])[nz]\n",
      "u1 = U( cnz )\n",
      "u2 = -np.log( dtram_obj.pi_i[nz] )\n",
      "u2 -= u2.min() - u1.min()\n",
      "plt.plot( cnz, u2, '--o', color='green', label=\"dTRAM\" )\n",
      "plt.plot( cnz, u1, label=\"exact\" )\n",
      "plt.legend( loc=1, fontsize=10 )\n",
      "plt.xlabel( r\"$x$ / a.u.\", fontsize=15 )\n",
      "plt.ylabel( r\"$U(x)$ / kT\", fontsize=15 )"
     ],
     "language": "python",
     "metadata": {},
     "outputs": []
    },
    {
     "cell_type": "heading",
     "level": 2,
     "metadata": {},
     "source": [
      "Concluding remark"
     ]
    },
    {
     "cell_type": "markdown",
     "metadata": {},
     "source": [
      "We hope that these examples help to understand the basic usage of the dTRAM method in the pytram package. Feel free to contact us via\n",
      "\n",
      "    pytram@lists.fu-berlin.de\n",
      "\n",
      "if any problems or questions arise."
     ]
    },
    {
     "cell_type": "code",
     "collapsed": false,
     "input": [],
     "language": "python",
     "metadata": {},
     "outputs": []
    }
   ],
   "metadata": {}
  }
 ]
}