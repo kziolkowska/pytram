{
 "metadata": {
  "name": "",
  "signature": "sha256:485867a7f1bb2b0b4b6121b0e6af45577a44fdef55898b1ee349dbf008c4f15d"
 },
 "nbformat": 3,
 "nbformat_minor": 0,
 "worksheets": [
  {
   "cells": [
    {
     "cell_type": "heading",
     "level": 1,
     "metadata": {},
     "source": [
      "How to use the xTRAM estimator"
     ]
    },
    {
     "cell_type": "code",
     "collapsed": false,
     "input": [
      "%pylab inline\n",
      "from pytram import TRAMData\n",
      "from pytram.xtram import XTRAM"
     ],
     "language": "python",
     "metadata": {},
     "outputs": [
      {
       "output_type": "stream",
       "stream": "stdout",
       "text": [
        "Populating the interactive namespace from numpy and matplotlib\n"
       ]
      }
     ],
     "prompt_number": 1
    },
    {
     "cell_type": "code",
     "collapsed": false,
     "input": [
      "replica = np.loadtxt('../../pytram/ST_ADW/rep_short.dat')\n",
      "n_therm_states = 5\n",
      "therm_sample = np.zeros( shape=(n_therm_states,), dtype=np.int32 )\n",
      "for t in xrange( replica.shape[0] ):\n",
      "    therm_sample[replica[t,1]] += 1\n",
      "max_therm_sample = np.max(therm_sample)\n",
      "kT = np.loadtxt('../../pytram/ST_ADW/kT.dat')"
     ],
     "language": "python",
     "metadata": {},
     "outputs": [],
     "prompt_number": 2
    },
    {
     "cell_type": "code",
     "collapsed": false,
     "input": [
      "np.shape(replica)"
     ],
     "language": "python",
     "metadata": {},
     "outputs": [
      {
       "metadata": {},
       "output_type": "pyout",
       "prompt_number": 3,
       "text": [
        "(100000, 3)"
       ]
      }
     ],
     "prompt_number": 3
    },
    {
     "cell_type": "code",
     "collapsed": false,
     "input": [
      "bias = np.zeros( shape=(n_therm_states,replica.shape[0]), dtype=np.float64 )\n",
      "kT_target = kT[0]\n",
      "for l in xrange( replica.shape[0] ):\n",
      "    j = replica[l,1]\n",
      "    for i in xrange( n_therm_states ):\n",
      "        bias[i,l] = replica[l,2] *  kT[j] / kT[i] -  replica[l,2]*kT[j]/kT_target"
     ],
     "language": "python",
     "metadata": {},
     "outputs": [],
     "prompt_number": 4
    },
    {
     "cell_type": "code",
     "collapsed": false,
     "input": [
      "traj = {'m' : replica[:,0].astype('int'), 't' : replica[:,1].astype('int'), 'u' : bias}"
     ],
     "language": "python",
     "metadata": {},
     "outputs": [],
     "prompt_number": 5
    },
    {
     "cell_type": "code",
     "collapsed": false,
     "input": [
      "tramdata = TRAMData( [traj] )"
     ],
     "language": "python",
     "metadata": {},
     "outputs": [],
     "prompt_number": 6
    },
    {
     "cell_type": "code",
     "collapsed": false,
     "input": [
      "c_K_ij = tramdata.get_C_K_ij(1)\n",
      "xtram_obj = XTRAM(c_K_ij,tramdata.u_I_x,tramdata.T_x, tramdata.M_x, tramdata.N_K_i, tramdata.N_K)"
     ],
     "language": "python",
     "metadata": {},
     "outputs": [
      {
       "output_type": "stream",
       "stream": "stdout",
       "text": [
        "If you use this method for your data analysis please do not forget to cite:\n",
        "xTRAM: Estimating Equilibrium Expectations from Time-Correlated Simulation\n",
        "Data at Multiple Thermodyncamic States \n",
        "Antonia S. J. S. Mey, Hao Wu and Frank Noe, \n",
        "Phys. Rev. X 4, 041018\n",
        "[ 0.0790816   0.43551254  0.77652436  0.84523901]"
       ]
      },
      {
       "output_type": "stream",
       "stream": "stdout",
       "text": [
        "\n",
        "[ 1.          3.53727502  4.3685067   4.62143397  4.7895698 ]\n"
       ]
      },
      {
       "output_type": "stream",
       "stream": "stderr",
       "text": [
        "pytram/tramdata.py:95: FutureWarning: comparison to `None` will result in an elementwise object comparison in the future.\n",
        "  if None == self._N_K:\n",
        "pytram/tramdata.py:83: FutureWarning: comparison to `None` will result in an elementwise object comparison in the future.\n",
        "  if None == self._N_K_i:\n",
        "pytram/estimator.py:37: FutureWarning: comparison to `None` will result in an elementwise object comparison in the future.\n",
        "  if None == C_K_ij:\n",
        "pytram/xtram/xtram.py:412: FutureWarning: comparison to `None` will result in an elementwise object comparison in the future.\n",
        "  if None == u_I_x:\n"
       ]
      }
     ],
     "prompt_number": 7
    },
    {
     "cell_type": "code",
     "collapsed": false,
     "input": [
      "xtram_obj.sc_iteration(verbose=True)"
     ],
     "language": "python",
     "metadata": {},
     "outputs": [
      {
       "output_type": "stream",
       "stream": "stdout",
       "text": [
        "#   [Step] [rel. Increment]\n",
        "[ 0.846183    3.58075934  4.39677952  4.56170201  4.90951159]"
       ]
      },
      {
       "output_type": "stream",
       "stream": "stdout",
       "text": [
        "\n",
        "         1   4.05247889e-01\n",
        "[ 0.84440523  3.58086592  4.3970999   4.56173976  4.91044814]"
       ]
      },
      {
       "output_type": "stream",
       "stream": "stdout",
       "text": [
        "\n",
        "         2   3.17901425e-03\n",
        "[ 0.84438672  3.58086522  4.39710399  4.56174361  4.910456  ]"
       ]
      },
      {
       "output_type": "stream",
       "stream": "stdout",
       "text": [
        "\n",
        "         3   3.50124895e-05\n"
       ]
      }
     ],
     "prompt_number": 8
    },
    {
     "cell_type": "code",
     "collapsed": false,
     "input": [
      "\n",
      "plt.plot(-np.log(xtram_obj.pi_K_i[0,:]/np.sum(xtram_obj.pi_K_i[0,:])))\n",
      "exact = np.loadtxt('../../pytram/ST_ADW/exact.dat')\n",
      "plt.plot(-np.log(exact[:,1]/np.sum(exact[:,1])))"
     ],
     "language": "python",
     "metadata": {},
     "outputs": [
      {
       "metadata": {},
       "output_type": "pyout",
       "prompt_number": 12,
       "text": [
        "[<matplotlib.lines.Line2D at 0x7f580bb6db90>]"
       ]
      },
      {
       "metadata": {},
       "output_type": "display_data",
       "png": "[encoded data removed]",
       "text": [
        "<matplotlib.figure.Figure at 0x7f580ce5f6d0>"
       ]
      }
     ],
     "prompt_number": 12
    },
    {
     "cell_type": "code",
     "collapsed": false,
     "input": [
      "[ 1.          3.51944397  4.34350701  4.60331336  4.76448896]"
     ],
     "language": "python",
     "metadata": {},
     "outputs": []
    },
    {
     "cell_type": "code",
     "collapsed": false,
     "input": [
      "def compute_f(replica):\n",
      "    f = np.ones(5)\n",
      "    I_plus_one = np.zeros(5)\n",
      "    I_minus_one = np.zeros(5)\n",
      "    for i in xrange(replica.shape[0]):\n",
      "        t = replica[i,1]\n",
      "        if t ==0:\n",
      "            I_plus_one[t]+=np.min(1,np.exp(replica[i,2]-replica[i,2]*(kT[t]/kT[t+1])))\n",
      "        elif t==4:\n",
      "            I_minus_one[t]+=np.min(1,np.exp(replica[i,2]-replica[i,2]))\n",
      "        "
     ],
     "language": "python",
     "metadata": {},
     "outputs": []
    }
   ],
   "metadata": {}
  }
 ]
}