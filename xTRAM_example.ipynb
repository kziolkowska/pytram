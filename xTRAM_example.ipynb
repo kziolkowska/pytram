{
 "metadata": {
  "name": "",
  "signature": "sha256:404b2273252c70841348358a4a36f9de3a84668213759568a6f5c85550cd5a24"
 },
 "nbformat": 3,
 "nbformat_minor": 0,
 "worksheets": [
  {
   "cells": [
    {
     "cell_type": "heading",
     "level": 1,
     "metadata": {},
     "source": [
      "How to use the xTRAM estimator"
     ]
    },
    {
     "cell_type": "code",
     "collapsed": false,
     "input": [
      "%pylab inline\n",
      "from pytram import TRAMData\n",
      "from pytram.xtram import XTRAM"
     ],
     "language": "python",
     "metadata": {},
     "outputs": [
      {
       "output_type": "stream",
       "stream": "stdout",
       "text": [
        "Populating the interactive namespace from numpy and matplotlib\n"
       ]
      }
     ],
     "prompt_number": 1
    },
    {
     "cell_type": "code",
     "collapsed": false,
     "input": [
      "replica = np.loadtxt('../Projects/pytram/ST_ADW/rep_short.dat')\n",
      "n_therm_states = 5\n",
      "therm_sample = np.zeros( shape=(n_therm_states,), dtype=np.int32 )\n",
      "for t in xrange( replica.shape[0] ):\n",
      "    therm_sample[replica[t,1]] += 1\n",
      "max_therm_sample = np.max(therm_sample)\n",
      "kT = np.loadtxt('../Projects/pytram/ST_ADW/kT.dat')"
     ],
     "language": "python",
     "metadata": {},
     "outputs": [],
     "prompt_number": 2
    },
    {
     "cell_type": "code",
     "collapsed": false,
     "input": [
      "np.shape(replica)"
     ],
     "language": "python",
     "metadata": {},
     "outputs": [
      {
       "metadata": {},
       "output_type": "pyout",
       "prompt_number": 3,
       "text": [
        "(100000, 3)"
       ]
      }
     ],
     "prompt_number": 3
    },
    {
     "cell_type": "code",
     "collapsed": false,
     "input": [
      "bias = np.zeros( shape=(n_therm_states,replica.shape[0]), dtype=np.float64 )\n",
      "kT_target = kT[0]\n",
      "for l in xrange( replica.shape[0] ):\n",
      "    j = replica[l,1]\n",
      "    for i in xrange( n_therm_states ):\n",
      "        bias[i,l] = replica[l,2] *  kT[j] / kT[i] -  replica[l,2]*kT[j]/kT_target"
     ],
     "language": "python",
     "metadata": {},
     "outputs": [],
     "prompt_number": 4
    },
    {
     "cell_type": "code",
     "collapsed": false,
     "input": [
      "traj = {'m' : replica[:,0].astype(np.intc), 't' : replica[:,1].astype(np.intc), 'u' : bias}"
     ],
     "language": "python",
     "metadata": {},
     "outputs": [],
     "prompt_number": 5
    },
    {
     "cell_type": "code",
     "collapsed": false,
     "input": [
      "tramdata = TRAMData( [traj] )"
     ],
     "language": "python",
     "metadata": {},
     "outputs": [],
     "prompt_number": 6
    },
    {
     "cell_type": "code",
     "collapsed": false,
     "input": [
      "c_K_ij = tramdata.get_C_K_ij(1)\n",
      "xtram_obj = XTRAM(c_K_ij,tramdata.u_I_x,tramdata.T_x, tramdata.M_x, tramdata.N_K_i, tramdata.N_K)"
     ],
     "language": "python",
     "metadata": {},
     "outputs": [
      {
       "output_type": "stream",
       "stream": "stdout",
       "text": [
        "If you use this method for your data analysis please do not forget to cite:\n",
        "xTRAM: Estimating Equilibrium Expectations from Time-Correlated Simulation\n",
        "Data at Multiple Thermodyncamic States \n",
        "Antonia S. J. S. Mey, Hao Wu and Frank Noe, \n",
        "Phys. Rev. X 4, 041018\n",
        "[ 0.0790816   0.43551254  0.77652436  0.84523901]"
       ]
      },
      {
       "output_type": "stream",
       "stream": "stdout",
       "text": [
        "\n",
        "[ 1.          3.53727502  4.3685067   4.62143397  4.7895698 ]\n"
       ]
      },
      {
       "output_type": "stream",
       "stream": "stderr",
       "text": [
        "pytram/tramdata.py:95: FutureWarning: comparison to `None` will result in an elementwise object comparison in the future.\n",
        "  if None == self._N_K:\n",
        "pytram/tramdata.py:83: FutureWarning: comparison to `None` will result in an elementwise object comparison in the future.\n",
        "  if None == self._N_K_i:\n",
        "pytram/estimator.py:37: FutureWarning: comparison to `None` will result in an elementwise object comparison in the future.\n",
        "  if None == C_K_ij:\n",
        "pytram/xtram/xtram.py:419: FutureWarning: comparison to `None` will result in an elementwise object comparison in the future.\n",
        "  if None == u_I_x:\n"
       ]
      }
     ],
     "prompt_number": 7
    },
    {
     "cell_type": "code",
     "collapsed": false,
     "input": [
      "xtram_obj.sc_iteration(verbose=True)"
     ],
     "language": "python",
     "metadata": {},
     "outputs": [
      {
       "output_type": "stream",
       "stream": "stdout",
       "text": [
        "#   [Step] [rel. Increment]\n",
        "[ 0.84509043  3.58099479  4.39723039  4.56192719  4.90969697]"
       ]
      },
      {
       "output_type": "stream",
       "stream": "stdout",
       "text": [
        "\n",
        "         1   4.06986967e-01\n",
        "[ 0.84339414  3.58113256  4.3975371   4.56193138  4.91058236]"
       ]
      },
      {
       "output_type": "stream",
       "stream": "stdout",
       "text": [
        "\n",
        "         2   3.03035349e-03\n",
        "[ 0.8433769   3.58113212  4.39754081  4.5619348   4.9105897 ]"
       ]
      },
      {
       "output_type": "stream",
       "stream": "stdout",
       "text": [
        "\n",
        "         3   3.21675857e-05\n"
       ]
      }
     ],
     "prompt_number": 8
    },
    {
     "cell_type": "code",
     "collapsed": false,
     "input": [
      "\n",
      "plt.plot(-np.log(xtram_obj.pi_K_i[0,:]/np.sum(xtram_obj.pi_K_i[0,:])))\n",
      "exact = np.loadtxt('../Projects/pytram/ST_ADW/exact.dat')\n",
      "plt.plot(-np.log(exact[:,1]/np.sum(exact[:,1])))"
     ],
     "language": "python",
     "metadata": {},
     "outputs": [
      {
       "metadata": {},
       "output_type": "pyout",
       "prompt_number": 10,
       "text": [
        "[<matplotlib.lines.Line2D at 0x1051e88d0>]"
       ]
      },
      {
       "metadata": {},
       "output_type": "display_data",
       "png": "[encoded data removed]",
       "text": [
        "<matplotlib.figure.Figure at 0x1052b2850>"
       ]
      }
     ],
     "prompt_number": 10
    },
    {
     "cell_type": "code",
     "collapsed": false,
     "input": [
      "[ 1.          3.51944397  4.34350701  4.60331336  4.76448896]"
     ],
     "language": "python",
     "metadata": {},
     "outputs": []
    },
    {
     "cell_type": "code",
     "collapsed": false,
     "input": [
      "def compute_f(replica):\n",
      "    f = np.ones(5)\n",
      "    I_plus_one = np.zeros(5)\n",
      "    I_minus_one = np.zeros(5)\n",
      "    for i in xrange(replica.shape[0]):\n",
      "        t = replica[i,1]\n",
      "        if t ==0:\n",
      "            I_plus_one[t]+=np.min(1,np.exp(replica[i,2]-replica[i,2]*(kT[t]/kT[t+1])))\n",
      "        elif t==4:\n",
      "            I_minus_one[t]+=np.min(1,np.exp(replica[i,2]-replica[i,2]))\n",
      "        "
     ],
     "language": "python",
     "metadata": {},
     "outputs": []
    }
   ],
   "metadata": {}
  }
 ]
}